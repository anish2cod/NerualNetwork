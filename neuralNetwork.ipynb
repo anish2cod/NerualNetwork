{
  "nbformat": 4,
  "nbformat_minor": 0,
  "metadata": {
    "colab": {
      "provenance": [],
      "toc_visible": true,
      "authorship_tag": "ABX9TyN3gJ6+n8ct9PuV4Mpng92l",
      "include_colab_link": true
    },
    "kernelspec": {
      "name": "python3",
      "display_name": "Python 3"
    },
    "language_info": {
      "name": "python"
    }
  },
  "cells": [
    {
      "cell_type": "markdown",
      "metadata": {
        "id": "view-in-github",
        "colab_type": "text"
      },
      "source": [
        "<a href=\"https://colab.research.google.com/github/anish2cod/NerualNetwork/blob/main/neuralNetwork.ipynb\" target=\"_parent\"><img src=\"https://colab.research.google.com/assets/colab-badge.svg\" alt=\"Open In Colab\"/></a>"
      ]
    },
    {
      "cell_type": "code",
      "execution_count": 1,
      "metadata": {
        "colab": {
          "base_uri": "https://localhost:8080/"
        },
        "id": "Zcqk2nULNtjA",
        "outputId": "36cd960c-dd77-42df-cc96-b0234b0b155b"
      },
      "outputs": [
        {
          "output_type": "execute_result",
          "data": {
            "text/plain": [
              "poly1d([1, 0, 1])"
            ]
          },
          "metadata": {},
          "execution_count": 1
        }
      ],
      "source": [
        "import numpy as np\n",
        "np.poly1d([1,0,1])\n"
      ]
    },
    {
      "cell_type": "code",
      "source": [
        "np.random.normal(size = (10,2))"
      ],
      "metadata": {
        "colab": {
          "base_uri": "https://localhost:8080/"
        },
        "id": "jixmL0JdUf_f",
        "outputId": "acc67409-3e4f-4efc-a577-da3bda2ab1e5"
      },
      "execution_count": 21,
      "outputs": [
        {
          "output_type": "execute_result",
          "data": {
            "text/plain": [
              "array([[-0.19857181,  2.39847493],\n",
              "       [ 1.21658491, -0.92526387],\n",
              "       [-0.38603463,  1.165796  ],\n",
              "       [-0.53754909,  0.80510569],\n",
              "       [-2.75969271,  0.00575862],\n",
              "       [-0.46520168,  0.50297423],\n",
              "       [ 1.2008395 ,  0.23085788],\n",
              "       [-0.47396705,  0.1543478 ],\n",
              "       [ 0.29562354, -0.07362469],\n",
              "       [ 1.77026343,  1.08750753]])"
            ]
          },
          "metadata": {},
          "execution_count": 21
        }
      ]
    },
    {
      "cell_type": "code",
      "source": [
        "np.array([[1,2,3],[4,5,6]])@np.array([1,2,3])"
      ],
      "metadata": {
        "colab": {
          "base_uri": "https://localhost:8080/"
        },
        "id": "xF0eVZ6bgc3G",
        "outputId": "f8243740-ebe9-4ae8-d499-e9fe07d1294b"
      },
      "execution_count": 3,
      "outputs": [
        {
          "output_type": "execute_result",
          "data": {
            "text/plain": [
              "array([14, 32])"
            ]
          },
          "metadata": {},
          "execution_count": 3
        }
      ]
    },
    {
      "cell_type": "code",
      "source": [
        "# class Neuron:\n",
        "#   def __init__(self, value = 0):\n",
        "#     self.value = value\n"
      ],
      "metadata": {
        "id": "mrD4LJ5EOWMf"
      },
      "execution_count": null,
      "outputs": []
    },
    {
      "cell_type": "code",
      "source": [
        "class Functions:\n",
        ""
      ],
      "metadata": {
        "id": "5HO56VGAk3aj"
      },
      "execution_count": null,
      "outputs": []
    },
    {
      "cell_type": "code",
      "source": [
        "class Layer:\n",
        "  def __init__(self, number_of_neurons,input_size , activation='relu',dropout=0,weight_init = None):\n",
        "\n",
        "    self.neurons = None\n",
        "    #random initilization need to be changed\n",
        "    self.weights = np.random.normal(size = (number_of_neurons , input_size))\n",
        "    self.bias = np.random.normal(size = number_of_neurons)\n",
        "    #need to change\n",
        "    self.activation = activation\n",
        "    self.weight_init = weight_init\n",
        "    self.dropout = dropout\n",
        "\n",
        "  def Relu(self,x):\n",
        "    if x > 0:\n",
        "      return x\n",
        "    else:\n",
        "      return 0\n",
        "  def Relu_diff(self,x):\n",
        "    if x > 0:\n",
        "      return 1\n",
        "    elif x < 0:\n",
        "      return 0\n",
        "    else:\n",
        "      return 1/2\n",
        "\n",
        "  def Activation(self,x):\n",
        "    if self.activation == \"relu\":\n",
        "      return self.Relu(x)\n",
        "\n",
        "  def Diff(self,x):\n",
        "    if self.activation == \"relu\":\n",
        "      return self.Relu_diff(x)\n",
        "\n",
        "  def FeedForward(self,input):\n",
        "    self.neurons = self.weights @ input + self.bias\n",
        "    self.neurons = np.array([self.Activation(x) for x in self.neurons])\n",
        "    return self.neurons"
      ],
      "metadata": {
        "id": "kvswjoQ3UDuz"
      },
      "execution_count": 25,
      "outputs": []
    },
    {
      "cell_type": "code",
      "source": [
        "l1 = Layer(10,5,'relu',.3)\n",
        "neurons = l1.FeedForward(np.array([1,2,3,4,5]))\n",
        "print(neurons)"
      ],
      "metadata": {
        "colab": {
          "base_uri": "https://localhost:8080/"
        },
        "id": "VtCtnMoHVJ-b",
        "outputId": "a4122dec-9773-4687-8abd-4ab0355ab393"
      },
      "execution_count": 26,
      "outputs": [
        {
          "output_type": "stream",
          "name": "stdout",
          "text": [
            "[0.         0.         0.         0.         5.27994291 4.28489489\n",
            " 0.         5.32835778 0.         0.44070511]\n"
          ]
        }
      ]
    },
    {
      "cell_type": "code",
      "source": [],
      "metadata": {
        "colab": {
          "base_uri": "https://localhost:8080/"
        },
        "id": "ezT2lbG5VkEA",
        "outputId": "d62b576c-d8bb-4026-a087-58ec771a0c00"
      },
      "execution_count": 27,
      "outputs": [
        {
          "output_type": "execute_result",
          "data": {
            "text/plain": [
              "array([[ 0.83615839, -1.669184  , -1.39028641,  0.07934635, -0.37729526],\n",
              "       [ 1.02817628, -1.2746263 , -0.25877198,  0.26844504, -1.27900971],\n",
              "       [-0.11875769,  0.25159477, -3.21582222, -0.73078042, -0.62917431],\n",
              "       [-0.83273599, -1.76153882,  0.77138056, -0.76934809, -0.97734054],\n",
              "       [-0.35748103, -0.79644797,  1.27764086,  0.98415907, -0.27210512],\n",
              "       [-0.20052384, -0.80171595,  1.76411167, -0.07405385,  0.20248541],\n",
              "       [-1.79606579, -0.31649887, -0.35368088, -0.41885553,  0.9429455 ],\n",
              "       [ 2.07567787,  0.17672084,  0.25186229,  1.14984626, -0.33931366],\n",
              "       [ 1.94095457, -1.65140391, -0.8706204 , -0.66862797, -0.31345882],\n",
              "       [ 0.19503542, -0.80292198,  1.578009  ,  0.0422147 , -0.76460414]])"
            ]
          },
          "metadata": {},
          "execution_count": 27
        }
      ]
    },
    {
      "cell_type": "code",
      "source": [
        "#to solve how to differentiate function using progamming otherwise mannually give the functions of derivatives"
      ],
      "metadata": {
        "id": "1D_coi-qekJv"
      },
      "execution_count": null,
      "outputs": []
    },
    {
      "cell_type": "code",
      "source": [
        "class Sequential:\n",
        "  #stack the layers and their interactions"
      ],
      "metadata": {
        "id": "S5EFYzqkVqLI"
      },
      "execution_count": null,
      "outputs": []
    },
    {
      "cell_type": "code",
      "source": [
        "class NN:\n",
        "  #fit , predict , backpropagation , feedforward etc.."
      ],
      "metadata": {
        "id": "8Ji81_6YVqIT"
      },
      "execution_count": null,
      "outputs": []
    }
  ]
}