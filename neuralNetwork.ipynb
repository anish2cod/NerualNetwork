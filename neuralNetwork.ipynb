{
  "nbformat": 4,
  "nbformat_minor": 0,
  "metadata": {
    "colab": {
      "provenance": [],
      "authorship_tag": "ABX9TyNp7WLAfI1Z1uQmOPKqyTPx",
      "include_colab_link": true
    },
    "kernelspec": {
      "name": "python3",
      "display_name": "Python 3"
    },
    "language_info": {
      "name": "python"
    }
  },
  "cells": [
    {
      "cell_type": "markdown",
      "metadata": {
        "id": "view-in-github",
        "colab_type": "text"
      },
      "source": [
        "<a href=\"https://colab.research.google.com/github/anish2cod/NerualNetwork/blob/main/neuralNetwork.ipynb\" target=\"_parent\"><img src=\"https://colab.research.google.com/assets/colab-badge.svg\" alt=\"Open In Colab\"/></a>"
      ]
    },
    {
      "cell_type": "code",
      "execution_count": 1,
      "metadata": {
        "colab": {
          "base_uri": "https://localhost:8080/"
        },
        "id": "Zcqk2nULNtjA",
        "outputId": "36cd960c-dd77-42df-cc96-b0234b0b155b"
      },
      "outputs": [
        {
          "output_type": "execute_result",
          "data": {
            "text/plain": [
              "poly1d([1, 0, 1])"
            ]
          },
          "metadata": {},
          "execution_count": 1
        }
      ],
      "source": [
        "import numpy as np\n",
        "np.poly1d([1,0,1])\n"
      ]
    },
    {
      "cell_type": "code",
      "source": [
        "np.random.normal(size = (10,2))"
      ],
      "metadata": {
        "colab": {
          "base_uri": "https://localhost:8080/"
        },
        "id": "jixmL0JdUf_f",
        "outputId": "acc67409-3e4f-4efc-a577-da3bda2ab1e5"
      },
      "execution_count": 21,
      "outputs": [
        {
          "output_type": "execute_result",
          "data": {
            "text/plain": [
              "array([[-0.19857181,  2.39847493],\n",
              "       [ 1.21658491, -0.92526387],\n",
              "       [-0.38603463,  1.165796  ],\n",
              "       [-0.53754909,  0.80510569],\n",
              "       [-2.75969271,  0.00575862],\n",
              "       [-0.46520168,  0.50297423],\n",
              "       [ 1.2008395 ,  0.23085788],\n",
              "       [-0.47396705,  0.1543478 ],\n",
              "       [ 0.29562354, -0.07362469],\n",
              "       [ 1.77026343,  1.08750753]])"
            ]
          },
          "metadata": {},
          "execution_count": 21
        }
      ]
    },
    {
      "cell_type": "code",
      "source": [
        "np.random.normal(size = (3 ,4)).T"
      ],
      "metadata": {
        "colab": {
          "base_uri": "https://localhost:8080/"
        },
        "id": "xF0eVZ6bgc3G",
        "outputId": "c38d9375-4b4a-4c39-e4c6-4bce90f875fd"
      },
      "execution_count": 43,
      "outputs": [
        {
          "output_type": "execute_result",
          "data": {
            "text/plain": [
              "array([[ 0.69632078, -0.33451948,  1.13469603],\n",
              "       [ 1.5397437 ,  0.28863741,  0.77685656],\n",
              "       [-0.3912268 , -0.20181201, -0.28924476],\n",
              "       [-0.21034399, -0.7000741 ,  1.61014203]])"
            ]
          },
          "metadata": {},
          "execution_count": 43
        }
      ]
    },
    {
      "cell_type": "code",
      "source": [
        "# class Neuron:\n",
        "#   def __init__(self, value = 0):\n",
        "#     self.value = value\n"
      ],
      "metadata": {
        "id": "mrD4LJ5EOWMf"
      },
      "execution_count": null,
      "outputs": []
    },
    {
      "cell_type": "code",
      "source": [
        "class Functions:\n",
        "  # defining relu and its derivative\n",
        "  def Relu(self,x):\n",
        "    if x > 0:\n",
        "      return x\n",
        "    else:\n",
        "      return 0\n",
        "  def Relu_diff(self,x):\n",
        "    if x > 0:\n",
        "      return 1\n",
        "    elif x < 0:\n",
        "      return 0\n",
        "    else:\n",
        "      return 1/2\n",
        "\n",
        "\n",
        "  #defining the active\n",
        "  def Activation(self,x,activation):\n",
        "    if activation == \"relu\":\n",
        "      return self.Relu(x)\n",
        "\n",
        "  def Diff(self,x,activation):\n",
        "    if activation == \"relu\":\n",
        "      return self.Relu_diff(x)"
      ],
      "metadata": {
        "id": "5HO56VGAk3aj"
      },
      "execution_count": 30,
      "outputs": []
    },
    {
      "cell_type": "code",
      "source": [
        "class Layer(Functions):\n",
        "  def __init__(self, number_of_neurons,input_size , activation='relu',dropout=0,weight_init = None):\n",
        "\n",
        "    self.neurons = None\n",
        "    #random initilization need to be changed\n",
        "    self.weights = np.random.normal(size = (number_of_neurons , input_size))\n",
        "    self.bias = np.random.normal(size = number_of_neurons)\n",
        "    #need to change\n",
        "    self.activation = activation\n",
        "    self.weight_init = weight_init\n",
        "    self.dropout = dropout\n",
        "\n",
        "\n",
        "\n",
        "  def FeedForward_L(self,input):\n",
        "    self.pre_activation = self.weights @ input + self.bias\n",
        "    self.neurons = np.array([self.Activation(x,self.activation) for x in self.pre_activation])\n",
        "    return self.neurons\n",
        "\n",
        "  def BackPropagation_L(self,grad,input):\n",
        "    grad = grad * np.array([self.Diff(x,self.activation) for x in self.pre_activation])\n",
        "    self.grad_bias = grad\n",
        "    self.grad_weights = grad.reshape(-1,1) @ input.reshape(1,-1)\n",
        "    grad = self.weights.T @ grad\n",
        "    return grad\n"
      ],
      "metadata": {
        "id": "kvswjoQ3UDuz"
      },
      "execution_count": 77,
      "outputs": []
    },
    {
      "cell_type": "code",
      "source": [
        "np.array([1,2,3]).reshape(-1,1) @ np.array([2,3,5]).reshape(1,-1)"
      ],
      "metadata": {
        "colab": {
          "base_uri": "https://localhost:8080/"
        },
        "id": "2tycfQ17-mfi",
        "outputId": "fa1c7ea6-5a33-43ce-ae5c-603a98fcc969"
      },
      "execution_count": 60,
      "outputs": [
        {
          "output_type": "execute_result",
          "data": {
            "text/plain": [
              "array([[ 2,  3,  5],\n",
              "       [ 4,  6, 10],\n",
              "       [ 6,  9, 15]])"
            ]
          },
          "metadata": {},
          "execution_count": 60
        }
      ]
    },
    {
      "cell_type": "code",
      "source": [
        "l1 = Layer(10,5,'relu',.3)\n",
        "neurons1 = l1.FeedForward_L(np.array([1,2,3,4,5]))\n",
        "neurons2 = l1.BackPropagation_L(np.array([i**2 for i in range(10)]),np.array([1,2,3,4,5]))\n",
        "print(neurons2)"
      ],
      "metadata": {
        "colab": {
          "base_uri": "https://localhost:8080/"
        },
        "id": "VtCtnMoHVJ-b",
        "outputId": "f07139ee-fe76-454e-a5c1-65461b5248b7"
      },
      "execution_count": 78,
      "outputs": [
        {
          "output_type": "stream",
          "name": "stdout",
          "text": [
            "[58.89751407 -0.75611518 84.69703308 27.76254813 45.1669207 ]\n"
          ]
        }
      ]
    },
    {
      "cell_type": "code",
      "source": [
        "l1.weights"
      ],
      "metadata": {
        "colab": {
          "base_uri": "https://localhost:8080/"
        },
        "id": "ezT2lbG5VkEA",
        "outputId": "aa061230-eee7-4b80-97c8-76b574ec1282"
      },
      "execution_count": 35,
      "outputs": [
        {
          "output_type": "execute_result",
          "data": {
            "text/plain": [
              "array([[-1.84276301,  1.0378904 ,  2.38456917,  1.33953967, -0.11383585],\n",
              "       [ 0.98107585, -1.00480884, -0.8540857 ,  1.21782257,  0.85263829],\n",
              "       [-1.43352505, -0.06191701, -0.04110125, -0.23241591, -1.30896832],\n",
              "       [-0.2306833 , -0.64986126, -1.34438735,  0.42847812, -0.97931412],\n",
              "       [ 0.23738939, -2.57282653,  2.0148359 , -1.69113665,  0.13591015],\n",
              "       [ 0.16961517,  1.31972968, -0.38873224,  0.15880831, -0.58776914],\n",
              "       [-0.2554158 , -0.52799625,  0.43609675, -0.64468221,  1.45638381],\n",
              "       [ 0.0476412 , -0.02664106,  1.55056712, -1.91034891,  0.36729176],\n",
              "       [ 0.37158339,  1.12700001,  1.52286597, -1.76669652,  0.5945604 ],\n",
              "       [ 1.03795255, -1.01088915, -0.09732181,  1.20083524,  0.54765148]])"
            ]
          },
          "metadata": {},
          "execution_count": 35
        }
      ]
    },
    {
      "cell_type": "code",
      "source": [
        "#to solve how to differentiate function using progamming otherwise mannually give the functions of derivatives"
      ],
      "metadata": {
        "id": "1D_coi-qekJv"
      },
      "execution_count": null,
      "outputs": []
    },
    {
      "cell_type": "code",
      "source": [
        "class Sequential:\n",
        "  #stack the layers and their interactions"
      ],
      "metadata": {
        "id": "S5EFYzqkVqLI"
      },
      "execution_count": null,
      "outputs": []
    },
    {
      "cell_type": "code",
      "source": [
        "class NN:\n",
        "  #fit , predict , backpropagation , feedforward etc.."
      ],
      "metadata": {
        "id": "8Ji81_6YVqIT"
      },
      "execution_count": null,
      "outputs": []
    }
  ]
}