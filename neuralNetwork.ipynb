{
  "nbformat": 4,
  "nbformat_minor": 0,
  "metadata": {
    "colab": {
      "provenance": [],
      "toc_visible": true,
      "authorship_tag": "ABX9TyMjrou7gTh2Umijj4k+n0Ej",
      "include_colab_link": true
    },
    "kernelspec": {
      "name": "python3",
      "display_name": "Python 3"
    },
    "language_info": {
      "name": "python"
    }
  },
  "cells": [
    {
      "cell_type": "markdown",
      "metadata": {
        "id": "view-in-github",
        "colab_type": "text"
      },
      "source": [
        "<a href=\"https://colab.research.google.com/github/anish2cod/NerualNetwork/blob/main/neuralNetwork.ipynb\" target=\"_parent\"><img src=\"https://colab.research.google.com/assets/colab-badge.svg\" alt=\"Open In Colab\"/></a>"
      ]
    },
    {
      "cell_type": "code",
      "execution_count": 11,
      "metadata": {
        "colab": {
          "base_uri": "https://localhost:8080/"
        },
        "id": "Zcqk2nULNtjA",
        "outputId": "a1ab1833-c580-487c-d2b2-6c3eaa629af2"
      },
      "outputs": [
        {
          "output_type": "execute_result",
          "data": {
            "text/plain": [
              "10"
            ]
          },
          "metadata": {},
          "execution_count": 11
        }
      ],
      "source": [
        "import numpy as np\n",
        "np.poly1d([1,0,1])\n"
      ]
    },
    {
      "cell_type": "code",
      "source": [
        "np.random.rand(10,2)"
      ],
      "metadata": {
        "colab": {
          "base_uri": "https://localhost:8080/"
        },
        "id": "jixmL0JdUf_f",
        "outputId": "c5f06068-cc08-4651-f0c0-649ac25c683f"
      },
      "execution_count": 18,
      "outputs": [
        {
          "output_type": "execute_result",
          "data": {
            "text/plain": [
              "array([[0.54662757, 0.87374003],\n",
              "       [0.73187284, 0.73639702],\n",
              "       [0.86986912, 0.17507052],\n",
              "       [0.97188276, 0.98514165],\n",
              "       [0.51193933, 0.31710679],\n",
              "       [0.97229989, 0.42176488],\n",
              "       [0.48036652, 0.36590021],\n",
              "       [0.01376671, 0.34862218],\n",
              "       [0.27605245, 0.1197345 ],\n",
              "       [0.98999526, 0.27122846]])"
            ]
          },
          "metadata": {},
          "execution_count": 18
        }
      ]
    },
    {
      "cell_type": "code",
      "source": [
        "class Neuron:\n",
        "  def __init__(self, value = 0):\n",
        "    self.value = value\n"
      ],
      "metadata": {
        "id": "mrD4LJ5EOWMf"
      },
      "execution_count": 12,
      "outputs": []
    },
    {
      "cell_type": "code",
      "source": [
        "class Layer:\n",
        "  def __init__(self, number_of_neurons,input_size , activation,dropout,input=None):\n",
        "    if input == None:\n",
        "      self.neurons = [Neuron() for _ in range(number_of_neurons)]\n",
        "    else:\n",
        "      self.neurons = [Neuron(val) for val in input]\n",
        "    self.weights = np.random.rand(number_of_neurons , input_size)\n",
        "    self.activation = activation\n",
        "    self.dropout = dropout\n"
      ],
      "metadata": {
        "id": "kvswjoQ3UDuz"
      },
      "execution_count": 23,
      "outputs": []
    },
    {
      "cell_type": "code",
      "source": [
        "l1 = Layer(10,5,'relu',.3,[i**2 for i in range(10)])\n",
        "l1.neurons"
      ],
      "metadata": {
        "colab": {
          "base_uri": "https://localhost:8080/"
        },
        "id": "VtCtnMoHVJ-b",
        "outputId": "5691aac5-e8c5-40f3-c980-f43e0c29dcf8"
      },
      "execution_count": 25,
      "outputs": [
        {
          "output_type": "execute_result",
          "data": {
            "text/plain": [
              "[<__main__.Neuron at 0x792d2a7fd1d0>,\n",
              " <__main__.Neuron at 0x792d2a7ff950>,\n",
              " <__main__.Neuron at 0x792d2a7fe9d0>,\n",
              " <__main__.Neuron at 0x792d2a7fca90>,\n",
              " <__main__.Neuron at 0x792d2a7fc350>,\n",
              " <__main__.Neuron at 0x792d2a7fd390>,\n",
              " <__main__.Neuron at 0x792d2a7fef50>,\n",
              " <__main__.Neuron at 0x792d2a7fd910>,\n",
              " <__main__.Neuron at 0x792d2a7fc750>,\n",
              " <__main__.Neuron at 0x792d2a7fc290>]"
            ]
          },
          "metadata": {},
          "execution_count": 25
        }
      ]
    },
    {
      "cell_type": "code",
      "source": [
        "l1.neurons[2].value"
      ],
      "metadata": {
        "colab": {
          "base_uri": "https://localhost:8080/"
        },
        "id": "ezT2lbG5VkEA",
        "outputId": "53733070-3e98-402f-9e39-5cca91c06911"
      },
      "execution_count": 27,
      "outputs": [
        {
          "output_type": "execute_result",
          "data": {
            "text/plain": [
              "4"
            ]
          },
          "metadata": {},
          "execution_count": 27
        }
      ]
    },
    {
      "cell_type": "code",
      "source": [],
      "metadata": {
        "id": "S5EFYzqkVqLI"
      },
      "execution_count": null,
      "outputs": []
    },
    {
      "cell_type": "code",
      "source": [],
      "metadata": {
        "id": "8Ji81_6YVqIT"
      },
      "execution_count": null,
      "outputs": []
    }
  ]
}