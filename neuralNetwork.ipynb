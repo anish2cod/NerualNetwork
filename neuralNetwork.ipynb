{
  "nbformat": 4,
  "nbformat_minor": 0,
  "metadata": {
    "colab": {
      "provenance": [],
      "authorship_tag": "ABX9TyN22cyxYemAQ6vcvmYoHFgR",
      "include_colab_link": true
    },
    "kernelspec": {
      "name": "python3",
      "display_name": "Python 3"
    },
    "language_info": {
      "name": "python"
    }
  },
  "cells": [
    {
      "cell_type": "markdown",
      "metadata": {
        "id": "view-in-github",
        "colab_type": "text"
      },
      "source": [
        "<a href=\"https://colab.research.google.com/github/anish2cod/NerualNetwork/blob/main/neuralNetwork.ipynb\" target=\"_parent\"><img src=\"https://colab.research.google.com/assets/colab-badge.svg\" alt=\"Open In Colab\"/></a>"
      ]
    },
    {
      "cell_type": "code",
      "execution_count": 2,
      "metadata": {
        "colab": {
          "base_uri": "https://localhost:8080/"
        },
        "id": "Zcqk2nULNtjA",
        "outputId": "9751aeae-1ee2-43c8-b6e2-266d27c782c4"
      },
      "outputs": [
        {
          "output_type": "execute_result",
          "data": {
            "text/plain": [
              "poly1d([1, 0, 1])"
            ]
          },
          "metadata": {},
          "execution_count": 2
        }
      ],
      "source": [
        "import numpy as np\n",
        "np.poly1d([1,0,1])\n"
      ]
    },
    {
      "cell_type": "code",
      "source": [
        "np.random.normal(size = (10,2))"
      ],
      "metadata": {
        "colab": {
          "base_uri": "https://localhost:8080/"
        },
        "id": "jixmL0JdUf_f",
        "outputId": "acc67409-3e4f-4efc-a577-da3bda2ab1e5"
      },
      "execution_count": 21,
      "outputs": [
        {
          "output_type": "execute_result",
          "data": {
            "text/plain": [
              "array([[-0.19857181,  2.39847493],\n",
              "       [ 1.21658491, -0.92526387],\n",
              "       [-0.38603463,  1.165796  ],\n",
              "       [-0.53754909,  0.80510569],\n",
              "       [-2.75969271,  0.00575862],\n",
              "       [-0.46520168,  0.50297423],\n",
              "       [ 1.2008395 ,  0.23085788],\n",
              "       [-0.47396705,  0.1543478 ],\n",
              "       [ 0.29562354, -0.07362469],\n",
              "       [ 1.77026343,  1.08750753]])"
            ]
          },
          "metadata": {},
          "execution_count": 21
        }
      ]
    },
    {
      "cell_type": "code",
      "source": [
        "np.random.normal(size = (3 ,4)).T"
      ],
      "metadata": {
        "colab": {
          "base_uri": "https://localhost:8080/"
        },
        "id": "xF0eVZ6bgc3G",
        "outputId": "c38d9375-4b4a-4c39-e4c6-4bce90f875fd"
      },
      "execution_count": 43,
      "outputs": [
        {
          "output_type": "execute_result",
          "data": {
            "text/plain": [
              "array([[ 0.69632078, -0.33451948,  1.13469603],\n",
              "       [ 1.5397437 ,  0.28863741,  0.77685656],\n",
              "       [-0.3912268 , -0.20181201, -0.28924476],\n",
              "       [-0.21034399, -0.7000741 ,  1.61014203]])"
            ]
          },
          "metadata": {},
          "execution_count": 43
        }
      ]
    },
    {
      "cell_type": "code",
      "source": [
        "# class Neuron:\n",
        "#   def __init__(self, value = 0):\n",
        "#     self.value = value\n"
      ],
      "metadata": {
        "id": "mrD4LJ5EOWMf"
      },
      "execution_count": null,
      "outputs": []
    },
    {
      "cell_type": "code",
      "source": [
        "class Functions:\n",
        "  # defining relu and its derivative\n",
        "  def Relu(self,x):\n",
        "    if x > 0:\n",
        "      return x\n",
        "    else:\n",
        "      return 0\n",
        "  def Relu_diff(self,x):\n",
        "    if x > 0:\n",
        "      return 1\n",
        "    elif x < 0:\n",
        "      return 0\n",
        "    else:\n",
        "      return 1/2\n",
        "\n",
        "  def Leaky_Relu(self,x):\n",
        "    if x >= 0:\n",
        "      return x\n",
        "    elif x < 0:\n",
        "      return .15*x\n",
        "\n",
        "  def Leaky_Relu_Diff(self,x):\n",
        "    if x > 0 :\n",
        "      return 1\n",
        "    elif x<0:\n",
        "      return .15\n",
        "    else:\n",
        "      return .125\n",
        "\n",
        "  def SoftMax(self, Z):\n",
        "    ls = np.array([np.exp(i) for i in Z])\n",
        "    return ls/sum(ls)\n",
        "\n",
        "  #defining the active\n",
        "  def Activation(self,x,activation):\n",
        "    if activation == \"relu\":\n",
        "      return self.Relu(x)\n",
        "    if activation == \"leaky\":\n",
        "      return self.Leaky_Relu(x)\n",
        "    if activation is None:\n",
        "      return x\n",
        "\n",
        "  def Diff(self,x,activation):\n",
        "    if activation == \"relu\":\n",
        "      return self.Relu_diff(x)\n",
        "    if activation == \"leaky\":\n",
        "      return self.Leaky_Relu_Diff(x)\n",
        "    if activation is None:\n",
        "      return 1"
      ],
      "metadata": {
        "id": "5HO56VGAk3aj"
      },
      "execution_count": 159,
      "outputs": []
    },
    {
      "cell_type": "code",
      "source": [
        "def SoftMax(Z):\n",
        "  ls = np.array([np.exp(i) for i in Z])\n",
        "  return ls/sum(ls)\n",
        "ls = SoftMax(np.array([1,2,3,4]))\n",
        "print(ls)"
      ],
      "metadata": {
        "colab": {
          "base_uri": "https://localhost:8080/"
        },
        "id": "g17RhC0UvaV-",
        "outputId": "e71f0ad5-c232-434b-c9b4-ed16c614b277"
      },
      "execution_count": 5,
      "outputs": [
        {
          "output_type": "stream",
          "name": "stdout",
          "text": [
            "[0.0320586  0.08714432 0.23688282 0.64391426]\n"
          ]
        }
      ]
    },
    {
      "cell_type": "code",
      "source": [
        "class Functions:\n",
        "    Relu = lambda self, x: max(0, x)\n",
        "    Relu_diff = lambda self, x: 1 if x > 0 else (0.5 if x == 0 else 0)\n",
        "\n",
        "    Leaky_Relu = lambda self, x: x if x >= 0 else 0.15 * x\n",
        "    Leaky_Relu_Diff = lambda self, x: 1 if x > 0 else (0.125 if x == 0 else 0.15)\n",
        "\n",
        "    def Activation(self, x, activation):\n",
        "        activations = {\n",
        "            \"relu\": self.Relu,\n",
        "            \"leaky\": self.Leaky_Relu\n",
        "        }\n",
        "        return activations.get(activation, lambda x: None)(x)\n",
        "\n",
        "    def Diff(self, x, activation):\n",
        "        derivatives = {\n",
        "            \"relu\": self.Relu_diff,\n",
        "            \"leaky\": self.Leaky_Relu_Diff\n",
        "        }\n",
        "        return derivatives.get(activation, lambda x: None)(x)\n"
      ],
      "metadata": {
        "id": "tcYz6TKmWSEY"
      },
      "execution_count": 192,
      "outputs": []
    },
    {
      "cell_type": "code",
      "source": [
        "class Layer(Functions):\n",
        "  def __init__(self, number_of_neurons,input_size , activation='relu',dropout=0,weight_init = None):\n",
        "\n",
        "    self.neurons = None\n",
        "    #random initilization need to be changed\n",
        "    self.weights = np.random.normal(size = (number_of_neurons , input_size))\n",
        "    self.bias = np.random.normal(size = number_of_neurons)\n",
        "    #need to change\n",
        "    self.activation = activation\n",
        "    self.weight_init = weight_init\n",
        "    self.dropout = dropout\n",
        "\n",
        "\n",
        "  def FeedForward_L(self,input):\n",
        "    self.pre_activation = self.weights @ input + self.bias\n",
        "    self.neurons = np.array([self.Activation(x,self.activation) for x in self.pre_activation])\n",
        "    return self.neurons\n",
        "\n",
        "  def BackPropagation_L(self,grad,input):\n",
        "    grad = grad * np.array([self.Diff(x,self.activation) for x in self.pre_activation])\n",
        "    self.grad_bias = grad\n",
        "    self.grad_weights = grad.reshape(-1,1) @ input.reshape(1,-1)\n",
        "    grad = self.weights.T @ grad\n",
        "    return grad\n"
      ],
      "metadata": {
        "id": "kvswjoQ3UDuz"
      },
      "execution_count": 193,
      "outputs": []
    },
    {
      "cell_type": "code",
      "source": [],
      "metadata": {
        "id": "DcdlVc0UFQxt"
      },
      "execution_count": 193,
      "outputs": []
    },
    {
      "cell_type": "code",
      "source": [
        "np.array([1,2,3]).reshape(-1,1) @ np.array([2,3,5]).reshape(1,-1)"
      ],
      "metadata": {
        "colab": {
          "base_uri": "https://localhost:8080/"
        },
        "id": "2tycfQ17-mfi",
        "outputId": "2a9b5085-7804-4d1a-9e8e-7e2e8c2bf723"
      },
      "execution_count": 194,
      "outputs": [
        {
          "output_type": "execute_result",
          "data": {
            "text/plain": [
              "array([[ 2,  3,  5],\n",
              "       [ 4,  6, 10],\n",
              "       [ 6,  9, 15]])"
            ]
          },
          "metadata": {},
          "execution_count": 194
        }
      ]
    },
    {
      "cell_type": "code",
      "source": [
        "l1 = Layer(2,1,'relu',.3)\n",
        "neurons1 = l1.FeedForward_L(np.array([1]))\n",
        "neurons2 = l1.BackPropagation_L(np.array([1,2]),np.array([1]))\n",
        "print(\"output \" + str(neurons1))\n",
        "print(\"weights\" + str(l1.weights))\n",
        "print(\"bias\" + str(l1.bias))\n",
        "print(\"grad_next\" + str(neurons2))\n",
        "print(\"grad_bias\" + str(l1.grad_bias))\n",
        "print(\"grad_weights\" + str(l1.grad_weights))"
      ],
      "metadata": {
        "colab": {
          "base_uri": "https://localhost:8080/"
        },
        "id": "VtCtnMoHVJ-b",
        "outputId": "82a88b06-8e21-4181-e00f-4eab714e4d8a"
      },
      "execution_count": 195,
      "outputs": [
        {
          "output_type": "stream",
          "name": "stdout",
          "text": [
            "output [0.         1.76546682]\n",
            "weights[[-0.8348427 ]\n",
            " [ 1.53808598]]\n",
            "bias[-0.13292656  0.22738084]\n",
            "grad_next[3.07617196]\n",
            "grad_bias[0 2]\n",
            "grad_weights[[0]\n",
            " [2]]\n"
          ]
        }
      ]
    },
    {
      "cell_type": "code",
      "source": [
        "l1.weights"
      ],
      "metadata": {
        "colab": {
          "base_uri": "https://localhost:8080/"
        },
        "id": "ezT2lbG5VkEA",
        "outputId": "51802b53-67ec-49f5-cb27-e4544fdb7d6b"
      },
      "execution_count": 196,
      "outputs": [
        {
          "output_type": "execute_result",
          "data": {
            "text/plain": [
              "array([[-0.8348427 ],\n",
              "       [ 1.53808598]])"
            ]
          },
          "metadata": {},
          "execution_count": 196
        }
      ]
    },
    {
      "cell_type": "code",
      "source": [
        "#to solve how to differentiate function using progamming otherwise mannually give the functions of derivatives"
      ],
      "metadata": {
        "id": "1D_coi-qekJv"
      },
      "execution_count": 197,
      "outputs": []
    },
    {
      "cell_type": "code",
      "source": [
        "class Sequential:\n",
        "  #stack the layers and their interactions\n",
        "  def __init__(self,layers):\n",
        "    self.layers = layers\n",
        "\n",
        "  def FeedForward_S(self,input):\n",
        "    for layer in self.layers:\n",
        "      input = layer.FeedForward_L(input)\n",
        "  def BackPropagation_S(self,grad,input1):\n",
        "    for i in range(len(self.layers)-1,0,-1):\n",
        "      grad = self.layers[i].BackPropagation_L(grad,self.layers[i-1].neurons)\n",
        "    self.layers[0].BackPropagation_L(grad,input1)\n",
        "\n",
        "\n"
      ],
      "metadata": {
        "id": "S5EFYzqkVqLI"
      },
      "execution_count": 198,
      "outputs": []
    },
    {
      "cell_type": "code",
      "source": [
        "seq = Sequential([\n",
        "    Layer(2,3,\"leaky\"),\n",
        "    Layer(1,2,\"relu\")\n",
        "])\n"
      ],
      "metadata": {
        "id": "3hO1TbI1JSkQ"
      },
      "execution_count": 207,
      "outputs": []
    },
    {
      "cell_type": "code",
      "source": [
        "input = np.array([1000,2,30])\n",
        "seq.FeedForward_S(input)\n",
        "seq.BackPropagation_S(np.array([4]),input)\n",
        "for layer in seq.layers:\n",
        "  print(layer.grad_weights,layer.grad_bias)"
      ],
      "metadata": {
        "colab": {
          "base_uri": "https://localhost:8080/"
        },
        "id": "flRBc0pFK3Kb",
        "outputId": "6e10ec89-c2b6-439c-8033-a2020ecdae78"
      },
      "execution_count": 208,
      "outputs": [
        {
          "output_type": "stream",
          "name": "stdout",
          "text": [
            "[[ 1.46228824e+04  2.92457649e+01  4.38686473e+02]\n",
            " [-8.45134344e+02 -1.69026869e+00 -2.53540303e+01]] [14.62288244 -0.84513434]\n",
            "[[ 670.57643427 -639.75272767]] [4]\n"
          ]
        }
      ]
    },
    {
      "cell_type": "code",
      "source": [
        "seq"
      ],
      "metadata": {
        "colab": {
          "base_uri": "https://localhost:8080/"
        },
        "id": "SeN5XokwSxkI",
        "outputId": "3b79ae76-b5cd-464b-b23e-63c351b433cb"
      },
      "execution_count": 173,
      "outputs": [
        {
          "output_type": "execute_result",
          "data": {
            "text/plain": [
              "<__main__.Sequential at 0x7c2c968e3250>"
            ]
          },
          "metadata": {},
          "execution_count": 173
        }
      ]
    },
    {
      "cell_type": "code",
      "source": [
        "class NN:\n",
        "  #fit,predict,backpropagation,feedforward etc\n",
        "  #softmax contains all info for cross entropy"
      ],
      "metadata": {
        "id": "8Ji81_6YVqIT",
        "colab": {
          "base_uri": "https://localhost:8080/",
          "height": 126
        },
        "outputId": "ae2b554e-c64b-4b7a-a06f-a6f06a928852"
      },
      "execution_count": 123,
      "outputs": [
        {
          "output_type": "error",
          "ename": "SyntaxError",
          "evalue": "incomplete input (<ipython-input-123-d1401462ada9>, line 2)",
          "traceback": [
            "\u001b[0;36m  File \u001b[0;32m\"<ipython-input-123-d1401462ada9>\"\u001b[0;36m, line \u001b[0;32m2\u001b[0m\n\u001b[0;31m    #fit,predict,backpropagation,feedforward etc\u001b[0m\n\u001b[0m                                                ^\u001b[0m\n\u001b[0;31mSyntaxError\u001b[0m\u001b[0;31m:\u001b[0m incomplete input\n"
          ]
        }
      ]
    }
  ]
}