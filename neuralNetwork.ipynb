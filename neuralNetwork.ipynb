{
  "nbformat": 4,
  "nbformat_minor": 0,
  "metadata": {
    "colab": {
      "provenance": [],
      "authorship_tag": "ABX9TyPl6ZsNscm3kQ++ycO0ziJh",
      "include_colab_link": true
    },
    "kernelspec": {
      "name": "python3",
      "display_name": "Python 3"
    },
    "language_info": {
      "name": "python"
    }
  },
  "cells": [
    {
      "cell_type": "markdown",
      "metadata": {
        "id": "view-in-github",
        "colab_type": "text"
      },
      "source": [
        "<a href=\"https://colab.research.google.com/github/anish2cod/NerualNetwork/blob/main/neuralNetwork.ipynb\" target=\"_parent\"><img src=\"https://colab.research.google.com/assets/colab-badge.svg\" alt=\"Open In Colab\"/></a>"
      ]
    },
    {
      "cell_type": "code",
      "execution_count": 1,
      "metadata": {
        "id": "Zcqk2nULNtjA"
      },
      "outputs": [],
      "source": [
        "import numpy as np\n",
        "import pandas as pd\n"
      ]
    },
    {
      "cell_type": "code",
      "source": [
        "class Functions:\n",
        "  # defining relu and its derivative\n",
        "  def Relu(self,x):\n",
        "    if x > 0:\n",
        "      return x\n",
        "    else:\n",
        "      return 0\n",
        "  def Relu_diff(self,x):\n",
        "    if x > 0:\n",
        "      return 1\n",
        "    elif x < 0:\n",
        "      return 0\n",
        "    else:\n",
        "      return 1/2\n",
        "\n",
        "  def Leaky_Relu(self,x):\n",
        "    if x >= 0:\n",
        "      return x\n",
        "    elif x < 0:\n",
        "      return .15*x\n",
        "\n",
        "  def Leaky_Relu_Diff(self,x):\n",
        "    if x > 0 :\n",
        "      return 1\n",
        "    elif x<0:\n",
        "      return .15\n",
        "    else:\n",
        "      return .125\n",
        "\n",
        "  def Sigmoid(self,x):\n",
        "    return 1/(1+np.exp(x))\n",
        "\n",
        "  def Sigmoid_Diff(self,x):\n",
        "    return self.Sigmoid(x)*(1-self.Sigmoid(x))\n",
        "\n",
        "  #defining the active\n",
        "  def Activation(self,x,activation):\n",
        "    if activation == \"relu\":\n",
        "      return self.Relu(x)\n",
        "    if activation == \"leaky\":\n",
        "      return self.Leaky_Relu(x)\n",
        "    if activation == \"sigmoid\":\n",
        "      return self.Sigmoid(x)\n",
        "    if activation is None:\n",
        "      return x\n",
        "\n",
        "  def Diff(self,x,activation):\n",
        "    if activation == \"relu\":\n",
        "      return self.Relu_diff(x)\n",
        "    if activation == \"leaky\":\n",
        "      return self.Leaky_Relu_Diff(x)\n",
        "    if activation == \"sigmoid\":\n",
        "      return self.Sigmoid_Diff(x)\n",
        "    if activation is None:\n",
        "      return 1"
      ],
      "metadata": {
        "id": "5HO56VGAk3aj"
      },
      "execution_count": 2,
      "outputs": []
    },
    {
      "cell_type": "code",
      "source": [
        "# class Functions:\n",
        "#     Relu = lambda self, x: max(0, x)\n",
        "#     Relu_diff = lambda self, x: 1 if x > 0 else (0.5 if x == 0 else 0)\n",
        "\n",
        "#     Leaky_Relu = lambda self, x: x if x >= 0 else 0.15 * x\n",
        "#     Leaky_Relu_Diff = lambda self, x: 1 if x > 0 else (0.125 if x == 0 else 0.15)\n",
        "\n",
        "#     def Activation(self, x, activation):\n",
        "#         activations = {\n",
        "#             \"relu\": self.Relu,\n",
        "#             \"leaky\": self.Leaky_Relu\n",
        "#         }\n",
        "#         return activations.get(activation, lambda x: None)(x)\n",
        "\n",
        "#     def Diff(self, x, activation):\n",
        "#         derivatives = {\n",
        "#             \"relu\": self.Relu_diff,\n",
        "#             \"leaky\": self.Leaky_Relu_Diff\n",
        "#         }\n",
        "#         return derivatives.get(activation, lambda x: None)(x)\n"
      ],
      "metadata": {
        "id": "tcYz6TKmWSEY"
      },
      "execution_count": 3,
      "outputs": []
    },
    {
      "cell_type": "code",
      "source": [
        "class Layer(Functions):\n",
        "  def __init__(self, number_of_neurons,input_size , activation=None,dropout=0,weight_init = None):\n",
        "\n",
        "    self.neurons = None\n",
        "    #random initilization need to be changed\n",
        "    self.weights = np.random.normal(0,.5,size = (number_of_neurons , input_size))\n",
        "    self.bias = np.random.normal(0,.5,size = number_of_neurons)\n",
        "    #need to change\n",
        "    self.activation = activation\n",
        "    self.weight_init = weight_init\n",
        "    self.dropout = dropout\n",
        "\n",
        "\n",
        "  def FeedForward_L(self,input):\n",
        "    #print('input ' + str(input.shape))\n",
        "    #print('weights '+str(self.weights.shape))\n",
        "    self.pre_activation = self.weights @ input.reshape(-1,1) + self.bias.reshape(-1,1)\n",
        "    self.neurons = np.array([self.Activation(x,self.activation) for x in self.pre_activation.reshape(-1)])\n",
        "    return self.neurons\n",
        "\n",
        "  def BackPropagation_L(self,grad,input,regularizer):\n",
        "    grad = grad * np.array([self.Diff(x,self.activation) for x in self.pre_activation]).reshape(-1)\n",
        "    self.grad_bias = grad\n",
        "    self.grad_weights = grad.reshape(-1,1) @ input.reshape(1,-1) + 2 * regularizer * self.weights\n",
        "    #print(\"grad : \", grad.shape)\n",
        "    #print(\"grad_weights : \", self.grad_weights.shape)\n",
        "    grad = self.weights.T @ grad\n",
        "    #print(\"grad_e : \", grad.shape)\n",
        "    return grad\n"
      ],
      "metadata": {
        "id": "kvswjoQ3UDuz"
      },
      "execution_count": 4,
      "outputs": []
    },
    {
      "cell_type": "code",
      "source": [
        "#to solve how to differentiate function using progamming otherwise mannually give the functions of derivatives"
      ],
      "metadata": {
        "id": "1D_coi-qekJv"
      },
      "execution_count": 5,
      "outputs": []
    },
    {
      "cell_type": "code",
      "source": [
        "class Sequential:\n",
        "  #stack the layers and their interactions\n",
        "  def __init__(self,layers):\n",
        "    self.layers = layers\n",
        "\n",
        "  def FeedForward_S(self,input):\n",
        "    for i, layer in enumerate(self.layers):\n",
        "      #print('layer ' + str(i))\n",
        "      input = layer.FeedForward_L(input)\n",
        "\n",
        "  def BackPropagation_S(self,grad,input1,regularizer):\n",
        "    for i in range(len(self.layers)-1,0,-1):\n",
        "      grad = self.layers[i].BackPropagation_L(grad,self.layers[i-1].neurons,regularizer)\n",
        "      #print('layer ' + str(i))\n",
        "\n",
        "    self.layers[0].BackPropagation_L(grad,input1,regularizer)\n",
        "\n",
        "\n"
      ],
      "metadata": {
        "id": "S5EFYzqkVqLI"
      },
      "execution_count": 6,
      "outputs": []
    },
    {
      "cell_type": "code",
      "source": [
        "from typing_extensions import Self\n",
        "class Neural:\n",
        "  #fit,predict,backpropagation,feedforward etc\n",
        "  #softmax contains all info for cross entropy\n",
        "\n",
        "  def __init__(self, seq,learning_rate = 0.001,regularizer = .01):\n",
        "    self.Sequential = seq\n",
        "    if type(learning_rate) != list:\n",
        "      self.lr = list([learning_rate for _ in range(len(self.Sequential.layers))])\n",
        "    else:\n",
        "      self.lr = learning_rate\n",
        "    self.regularizer = regularizer\n",
        "\n",
        "\n",
        "  def SoftMax(self, Z):\n",
        "    ls = np.array([np.exp(i) for i in Z])\n",
        "    return ls/sum(ls)\n",
        "\n",
        "  def Accuracy(self,x,y):\n",
        "    count = 0\n",
        "    size = x.shape[0]\n",
        "    for row in range(size):\n",
        "      model.Sequential.FeedForward_S(x[row])\n",
        "      y_pred = np.argmax(SoftMax(self.Sequential.layers[-1].neurons))\n",
        "      if y_pred == y[row]:\n",
        "        count = count + 1\n",
        "    return count/x\n",
        "\n",
        "  def fit(self,X,y,batch_size = 32,iterations = 50):\n",
        "    batches = int(np.ceil(len(X)/batch_size))\n",
        "    distinct_labels = len(np.unique(y))\n",
        "    input_size = X.shape[0]\n",
        "\n",
        "    self.loss = []\n",
        "    for itr in range(iterations):\n",
        "      print(\"Epoch \" + str(itr + 1),end = '    ')\n",
        "      loss = 0\n",
        "      accuracy = 0\n",
        "      for batch in range(batches):\n",
        "        weights_update = [np.zeros_like(layer.weights) for layer in self.Sequential.layers]\n",
        "        bias_update = [np.zeros_like(layer.bias) for layer in self.Sequential.layers]\n",
        "        for i in range(batch_size):\n",
        "          row = i+batch*batch_size\n",
        "          if row > input_size - 1:\n",
        "            break\n",
        "          self.Sequential.FeedForward_S(np.array(X[row]))\n",
        "          ls = [0 for i in range(distinct_labels)]\n",
        "          ls[y[row]] = 1\n",
        "          ls = np.array(ls)\n",
        "          softmax = self.SoftMax(self.Sequential.layers[-1].neurons)\n",
        "          if np.argmax(softmax) == y[row]:\n",
        "            accuracy += 1\n",
        "          grad =  softmax - ls\n",
        "\n",
        "          loss = loss - np.log(softmax[y[row]])\n",
        "          self.Sequential.BackPropagation_S(grad,np.array(X[row]),self.regularizer)\n",
        "          i = 0\n",
        "          for layer in self.Sequential.layers:\n",
        "            weights_update[i] = weights_update[i] - self.lr[i] * layer.grad_weights\n",
        "            bias_update[i] = bias_update[i] - self.lr[i] * layer.grad_bias\n",
        "            i += 1\n",
        "        j = 0\n",
        "        for layer in self.Sequential.layers:\n",
        "          layer.weights = layer.weights + weights_update[j]/batch_size\n",
        "          layer.bias = layer.bias + bias_update[j]/batch_size\n",
        "          j += 1\n",
        "      weights_loss = 0\n",
        "      for layer in self.Sequential.layers:\n",
        "        weights_loss = weights_loss + 2 * self.regularizer * np.sum(layer.weights**2)\n",
        "      loss = loss / input_size +  weights_loss\n",
        "      accuracy /= input_size\n",
        "      self.loss.append(loss)\n",
        "      print('loss ' + str (loss),end = '  ')\n",
        "      print('Accuracy : ' , accuracy)\n",
        "      if (abs(loss) < 0.001):\n",
        "        break\n",
        "\n",
        "  def predict(self, X):\n",
        "    y_pred = []\n",
        "    size = X.shape[0]\n",
        "    for row in range(size):\n",
        "      self.Sequential.FeedForward_S(X[row])\n",
        "      y_pred.append( np.argmax(self.SoftMax(self.Sequential.layers[-1].neurons)) )\n",
        "    return y_pred\n"
      ],
      "metadata": {
        "id": "8Ji81_6YVqIT"
      },
      "execution_count": 7,
      "outputs": []
    },
    {
      "cell_type": "code",
      "source": [],
      "metadata": {
        "id": "u5Z2Vty4hEyI"
      },
      "execution_count": 7,
      "outputs": []
    },
    {
      "cell_type": "code",
      "source": [
        "from keras.src.datasets import mnist\n",
        "\n",
        "(x_train, y_train), (x_test, y_test) = mnist.load_data()"
      ],
      "metadata": {
        "id": "18PfDYjVPpEE"
      },
      "execution_count": 8,
      "outputs": []
    },
    {
      "cell_type": "code",
      "source": [
        "train_size = x_train.shape[0]\n",
        "x_train = x_train.reshape(train_size,-1)\n",
        "test_size = x_test.shape[0]\n",
        "x_test = x_test.reshape(test_size,-1)"
      ],
      "metadata": {
        "id": "tnKHGhZPO3B8"
      },
      "execution_count": 9,
      "outputs": []
    },
    {
      "cell_type": "code",
      "source": [
        "\n",
        "\n",
        "# Standardize the data\n",
        "x_train = (x_train - np.mean(x_train)) / np.std(x_train)\n",
        "x_test = (x_test - np.mean(x_test)) / np.std(x_test)"
      ],
      "metadata": {
        "id": "WI5yvrVRpCYa"
      },
      "execution_count": 10,
      "outputs": []
    },
    {
      "cell_type": "code",
      "source": [
        "len(x_test[1:3])"
      ],
      "metadata": {
        "id": "R36iqpLApPtl",
        "colab": {
          "base_uri": "https://localhost:8080/"
        },
        "outputId": "e5467fb4-bc7a-4093-a02a-7f8b1bc5879a"
      },
      "execution_count": 11,
      "outputs": [
        {
          "output_type": "execute_result",
          "data": {
            "text/plain": [
              "2"
            ]
          },
          "metadata": {},
          "execution_count": 11
        }
      ]
    },
    {
      "cell_type": "markdown",
      "source": [],
      "metadata": {
        "id": "hocyLf_2Xe84"
      }
    },
    {
      "cell_type": "code",
      "source": [
        "model = Neural(Sequential([Layer(50,x_train[1].shape[0],\"leaky\"),Layer(25,50,\"leaky\"),Layer(10,25)]),0.1,0)\n",
        "model.fit(x_train,y_train,24,25)"
      ],
      "metadata": {
        "colab": {
          "base_uri": "https://localhost:8080/"
        },
        "id": "QSJLI2dJeepx",
        "outputId": "74b2689e-fc69-480b-b8f5-d337711a8846"
      },
      "execution_count": 15,
      "outputs": [
        {
          "output_type": "stream",
          "name": "stdout",
          "text": [
            "Epoch 1    loss 0.7857045299056893  Accuracy :  0.8403666666666667\n",
            "Epoch 2    loss 0.3091436208849195  Accuracy :  0.911\n",
            "Epoch 3    loss 0.25096149429832276  Accuracy :  0.9271833333333334\n",
            "Epoch 4    loss 0.21939526982023017  Accuracy :  0.9355166666666667\n",
            "Epoch 5    loss 0.19673735764060368  Accuracy :  0.9419333333333333\n",
            "Epoch 6    loss 0.18102904753713905  Accuracy :  0.9465166666666667\n",
            "Epoch 7    loss 0.16725721205424296  Accuracy :  0.9504\n",
            "Epoch 8    loss 0.1564630214365667  Accuracy :  0.9535666666666667\n",
            "Epoch 9    loss 0.14750203385191055  Accuracy :  0.9562\n",
            "Epoch 10    loss 0.13916520707741775  Accuracy :  0.9582666666666667\n",
            "Epoch 11    loss 0.13300717556268332  Accuracy :  0.96055\n",
            "Epoch 12    loss 0.12484941354416984  Accuracy :  0.9624\n",
            "Epoch 13    loss 0.12079101357797485  Accuracy :  0.96325\n",
            "Epoch 14    loss 0.11465898287638616  Accuracy :  0.9654166666666667\n",
            "Epoch 15    loss 0.10932586415919661  Accuracy :  0.9667166666666667\n",
            "Epoch 16    loss 0.10849022153488205  Accuracy :  0.9675166666666667\n",
            "Epoch 17    loss 0.1007941538433062  Accuracy :  0.9690333333333333\n",
            "Epoch 18    loss 0.0968170007982636  Accuracy :  0.97035\n",
            "Epoch 19    loss 0.09670867946485641  Accuracy :  0.9706166666666667\n",
            "Epoch 20    loss 0.089930453197572  Accuracy :  0.9726\n",
            "Epoch 21    loss 0.08785160239366692  Accuracy :  0.9734166666666667\n",
            "Epoch 22    loss 0.08345423510324022  Accuracy :  0.9743333333333334\n",
            "Epoch 23    loss 0.08430170151014742  Accuracy :  0.9740333333333333\n",
            "Epoch 24    loss 0.07918483367029318  Accuracy :  0.97605\n",
            "Epoch 25    loss 0.07584714183342388  Accuracy :  0.9768833333333333\n"
          ]
        }
      ]
    },
    {
      "cell_type": "code",
      "source": [
        "#avoid using softmax and use only cross entropy for training to avoid overflow\n",
        "#analyse the factors influencing the gradients of each weights\n",
        "#the see how different activation functions influence the gradient"
      ],
      "metadata": {
        "id": "8jy2dWYPQsBw"
      },
      "execution_count": null,
      "outputs": []
    },
    {
      "cell_type": "code",
      "source": [
        "weights = []\n",
        "bias = []\n",
        "for layer in model.Sequential.layers:\n",
        "  weights.append(layer.weights)\n",
        "  bias.append(layer.bias)"
      ],
      "metadata": {
        "id": "oAoadxrNA-Hs"
      },
      "execution_count": 14,
      "outputs": []
    },
    {
      "cell_type": "code",
      "source": [
        "i = 0\n",
        "for layer in model.Sequential.layers:\n",
        "  layer.weights = weights[i]\n",
        "  layer.bias = bias[i]\n",
        "  i += 1"
      ],
      "metadata": {
        "id": "KvLmOy7nBXFR"
      },
      "execution_count": 43,
      "outputs": []
    },
    {
      "cell_type": "code",
      "source": [
        "y_pred = model.predict(x_test)"
      ],
      "metadata": {
        "id": "IRt5lDsGAySA"
      },
      "execution_count": 35,
      "outputs": []
    },
    {
      "cell_type": "code",
      "source": [
        "def Accuracy(y,y_pred):\n",
        "  count = 0\n",
        "  for i in range(len(y)):\n",
        "    if y[i] == y_pred[i]:\n",
        "      count += 1\n",
        "  return count / len(y)"
      ],
      "metadata": {
        "id": "-dqbNe5ZDqL-"
      },
      "execution_count": 19,
      "outputs": []
    },
    {
      "cell_type": "code",
      "source": [
        "Accuracy(y_test, model.predict(x_test))"
      ],
      "metadata": {
        "colab": {
          "base_uri": "https://localhost:8080/"
        },
        "id": "Xe86xouGEC9x",
        "outputId": "9db57f5a-a3cf-4da9-e13a-ee66971fd8ba"
      },
      "execution_count": 20,
      "outputs": [
        {
          "output_type": "execute_result",
          "data": {
            "text/plain": [
              "0.9562"
            ]
          },
          "metadata": {},
          "execution_count": 20
        }
      ]
    },
    {
      "cell_type": "code",
      "source": [
        "from sklearn.metrics import confusion_matrix\n",
        "import seaborn as sns\n",
        "import matplotlib.pyplot as plt\n",
        "\n",
        "cm = confusion_matrix(y_test,  model.predict(x_test))\n",
        "\n",
        "plt.figure(figsize=(10, 8))\n",
        "sns.heatmap(cm, annot=True, fmt=\"d\", cmap=\"Blues\")\n",
        "plt.xlabel(\"Predicted\")\n",
        "plt.ylabel(\"True\")\n",
        "plt.title(\"Confusion Matrix\")\n",
        "plt.show()"
      ],
      "metadata": {
        "colab": {
          "base_uri": "https://localhost:8080/",
          "height": 738
        },
        "id": "MMbGeDBAHWod",
        "outputId": "1d01dadb-3ef8-46be-eff2-3e099811663e"
      },
      "execution_count": 17,
      "outputs": [
        {
          "output_type": "display_data",
          "data": {
            "text/plain": [
              "<Figure size 1000x800 with 2 Axes>"
            ],
            "image/png": "[encoded data removed]"
          },
          "metadata": {}
        }
      ]
    },
    {
      "cell_type": "code",
      "source": [
        "plt.plot(model.loss)"
      ],
      "metadata": {
        "colab": {
          "base_uri": "https://localhost:8080/",
          "height": 467
        },
        "id": "4REl0zk3U10y",
        "outputId": "76a3e00e-4e80-4560-9e4a-5034782a86e9"
      },
      "execution_count": 21,
      "outputs": [
        {
          "output_type": "execute_result",
          "data": {
            "text/plain": [
              "[<matplotlib.lines.Line2D at 0x7e09f748a290>]"
            ]
          },
          "metadata": {},
          "execution_count": 21
        },
        {
          "output_type": "display_data",
          "data": {
            "text/plain": [
              "<Figure size 640x480 with 1 Axes>"
            ],
            "image/png": "[encoded data removed]"
          },
          "metadata": {}
        }
      ]
    },
    {
      "cell_type": "code",
      "source": [
        "count = 0\n",
        "y_pred = []\n",
        "for row in range(x_train.shape[0]):\n",
        "  model.Sequential.FeedForward_S(x_train[row])\n",
        "  y_pred.append(np.argmax(SoftMax(model.Sequential.layers[-1].neurons)))\n",
        "  if y_pred[row] == y_train[row]:\n",
        "    count = count + 1"
      ],
      "metadata": {
        "id": "55UMlPHd2On2"
      },
      "execution_count": null,
      "outputs": []
    },
    {
      "cell_type": "code",
      "source": [
        "np.median(y_pred)"
      ],
      "metadata": {
        "id": "T4zMIeZvRe0h"
      },
      "execution_count": null,
      "outputs": []
    },
    {
      "cell_type": "code",
      "source": [
        "count"
      ],
      "metadata": {
        "id": "pQg9d6fB3uR8"
      },
      "execution_count": null,
      "outputs": []
    },
    {
      "cell_type": "code",
      "source": [
        "model.loss"
      ],
      "metadata": {
        "id": "UkyUE4rXy05v"
      },
      "execution_count": null,
      "outputs": []
    },
    {
      "cell_type": "code",
      "source": [
        "def Sigmoid(x):\n",
        "  return 1/(1+np.exp(x))\n",
        "\n",
        "def Sigmoid_Diff(x):\n",
        "  return Sigmoid(x)*(1-Sigmoid(x))\n",
        "\n",
        "np.array([Sigmoid_Diff(x) for x in model.Sequential.layers[0].pre_activation]).reshape(-1).shape"
      ],
      "metadata": {
        "id": "JC4csbaTtvpq"
      },
      "execution_count": null,
      "outputs": []
    },
    {
      "cell_type": "code",
      "source": [
        "def SoftMax( Z):\n",
        "  ls = np.array([np.exp(i) for i in Z])\n",
        "  return ls/sum(ls)\n",
        "model.Sequential.FeedForward_S(x_test[3])\n",
        "SoftMax(model.Sequential.layers[-1].pre_activation)"
      ],
      "metadata": {
        "id": "-7OxiAsJfavI"
      },
      "execution_count": null,
      "outputs": []
    },
    {
      "cell_type": "code",
      "source": [
        "np.random.uniform(-1,1,(2,3))"
      ],
      "metadata": {
        "id": "mNfAQcNO4d1I"
      },
      "execution_count": null,
      "outputs": []
    },
    {
      "cell_type": "code",
      "source": [],
      "metadata": {
        "id": "q4EGNdwj32Em"
      },
      "execution_count": null,
      "outputs": []
    },
    {
      "cell_type": "code",
      "source": [
        "model.Sequential.layers[-1].weights"
      ],
      "metadata": {
        "id": "7s79CJ7nozHf"
      },
      "execution_count": null,
      "outputs": []
    },
    {
      "cell_type": "code",
      "source": [
        "model.Sequential.layers[2].weights.max()"
      ],
      "metadata": {
        "id": "xVPdGErkoXVs"
      },
      "execution_count": null,
      "outputs": []
    },
    {
      "cell_type": "code",
      "source": [
        "x_test.shape"
      ],
      "metadata": {
        "id": "EW-gTtXuQHjF"
      },
      "execution_count": null,
      "outputs": []
    }
  ]
}